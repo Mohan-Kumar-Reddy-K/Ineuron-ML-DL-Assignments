{
 "cells": [
  {
   "cell_type": "markdown",
   "metadata": {},
   "source": [
    "1. Create the below pattern using nested for loop in Python.\n",
    "*\n",
    "* *\n",
    "* * *\n",
    "* * * *\n",
    "* * * * *\n",
    "* * * *\n",
    "* * *\n",
    "* *\n",
    "*\n"
   ]
  },
  {
   "cell_type": "code",
   "execution_count": 79,
   "metadata": {},
   "outputs": [
    {
     "name": "stdout",
     "output_type": "stream",
     "text": [
      "* \n",
      "* * \n",
      "* * * \n",
      "* * * * \n",
      "* * * * * \n",
      "* * * * \n",
      "* * * \n",
      "* * \n",
      "* \n"
     ]
    }
   ],
   "source": [
    "p=8 # as totle rows are 9.\n",
    "for i in range(0,p+1):\n",
    "    #first 5 rows should print in incremental fashion\n",
    "    if i<5:\n",
    "        for j in range(0,i+1):\n",
    "            print('*',sep=\"\",end=\" \")\n",
    "        print('',end=\"\\n\")\n",
    "    #now remaining 4 rows has to be printed in decremental fashion\n",
    "    else:\n",
    "        for k in range(p-i,-1,-1):\n",
    "            print('*',sep=\"\",end=\" \")\n",
    "        print('',end=\"\\n\")      "
   ]
  },
  {
   "cell_type": "markdown",
   "metadata": {},
   "source": [
    "2. Write a Python program to reverse a word after accepting the input from the user.\n",
    "Sample Output:\n",
    "Input word: ineuron\n",
    "Output: norueni"
   ]
  },
  {
   "cell_type": "code",
   "execution_count": 77,
   "metadata": {},
   "outputs": [
    {
     "name": "stdout",
     "output_type": "stream",
     "text": [
      "please enter a wordList comprehension is awsome\n",
      "emoswa si noisneherpmoc tsiL"
     ]
    }
   ],
   "source": [
    "#Converting input string to list()\n",
    "p=list(input(\"please enter a word\"))\n",
    "#Using List Comprehension to print the inverted list\n",
    "k=[print(i,end=\"\") for i in p[::-1]]    \n",
    "\n",
    "#K is going to have none values with inputted string's length"
   ]
  }
 ],
 "metadata": {
  "kernelspec": {
   "display_name": "Python 3",
   "language": "python",
   "name": "python3"
  },
  "language_info": {
   "codemirror_mode": {
    "name": "ipython",
    "version": 3
   },
   "file_extension": ".py",
   "mimetype": "text/x-python",
   "name": "python",
   "nbconvert_exporter": "python",
   "pygments_lexer": "ipython3",
   "version": "3.8.5"
  }
 },
 "nbformat": 4,
 "nbformat_minor": 4
}
